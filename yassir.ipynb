{
 "cells": [
  {
   "cell_type": "code",
   "execution_count": 92,
   "metadata": {},
   "outputs": [],
   "source": [
    "import numpy as np\n",
    "import pandas as pd\n",
    "import seaborn as sns\n",
    "import matplotlib.pyplot as plt\n",
    "import seaborn as sns\n"
   ]
  },
  {
   "cell_type": "markdown",
   "metadata": {},
   "source": [
    "# Reading and displaying data"
   ]
  },
  {
   "cell_type": "code",
   "execution_count": 9,
   "metadata": {},
   "outputs": [
    {
     "name": "stdout",
     "output_type": "stream",
     "text": [
      "the number of rows is : 119659\n",
      "        pickup_lat  pickup_lng  dropoff_lat  dropoff_lng   eta  hour  \\\n",
      "0         36.69359     3.08008     36.74878      2.95118  1531     0   \n",
      "1         36.77913     3.24047     36.66214      3.05261  2133     0   \n",
      "2         36.74482     2.95584     36.74566      2.94355   238     0   \n",
      "3         36.70221     2.97031     36.69438      2.97311   278     0   \n",
      "4         36.76901     3.03099     36.75186      2.99687   542     0   \n",
      "...            ...         ...          ...          ...   ...   ...   \n",
      "119654    36.69903     3.20222     36.78164      3.01257  1515    23   \n",
      "119655    36.75759     3.04181     36.70601      3.22820  1348    23   \n",
      "119656    36.74288     3.09469     36.75285      2.98006  1134    23   \n",
      "119657    36.69680     3.07663     36.72063      3.18550  1192    23   \n",
      "119658    36.70861     3.22350     36.76235      2.92259  2146    23   \n",
      "\n",
      "       modified_date  \n",
      "0       30T00:32:54Z  \n",
      "1       09T00:16:06Z  \n",
      "2       26T00:03:14Z  \n",
      "3       29T00:09:53Z  \n",
      "4       21T00:30:32Z  \n",
      "...              ...  \n",
      "119654  21T23:45:54Z  \n",
      "119655  05T23:46:59Z  \n",
      "119656  05T23:17:03Z  \n",
      "119657  29T23:48:52Z  \n",
      "119658  18T23:24:58Z  \n",
      "\n",
      "[119659 rows x 7 columns]\n"
     ]
    }
   ],
   "source": [
    "df = pd.read_csv('yassir_eta_sample.csv')\n",
    "print(\"the number of rows is :\",len(df))\n",
    "print(df)"
   ]
  },
  {
   "cell_type": "code",
   "execution_count": 41,
   "metadata": {},
   "outputs": [
    {
     "data": {
      "text/html": [
       "<div>\n",
       "<style scoped>\n",
       "    .dataframe tbody tr th:only-of-type {\n",
       "        vertical-align: middle;\n",
       "    }\n",
       "\n",
       "    .dataframe tbody tr th {\n",
       "        vertical-align: top;\n",
       "    }\n",
       "\n",
       "    .dataframe thead th {\n",
       "        text-align: right;\n",
       "    }\n",
       "</style>\n",
       "<table border=\"1\" class=\"dataframe\">\n",
       "  <thead>\n",
       "    <tr style=\"text-align: right;\">\n",
       "      <th></th>\n",
       "      <th>pickup_lat</th>\n",
       "      <th>pickup_lng</th>\n",
       "      <th>dropoff_lat</th>\n",
       "      <th>dropoff_lng</th>\n",
       "      <th>eta</th>\n",
       "      <th>hour</th>\n",
       "      <th>modified_date</th>\n",
       "    </tr>\n",
       "  </thead>\n",
       "  <tbody>\n",
       "    <tr>\n",
       "      <th>0</th>\n",
       "      <td>36.69359</td>\n",
       "      <td>3.08008</td>\n",
       "      <td>36.74878</td>\n",
       "      <td>2.95118</td>\n",
       "      <td>1531</td>\n",
       "      <td>0</td>\n",
       "      <td>30T00:32:54Z</td>\n",
       "    </tr>\n",
       "    <tr>\n",
       "      <th>1</th>\n",
       "      <td>36.77913</td>\n",
       "      <td>3.24047</td>\n",
       "      <td>36.66214</td>\n",
       "      <td>3.05261</td>\n",
       "      <td>2133</td>\n",
       "      <td>0</td>\n",
       "      <td>09T00:16:06Z</td>\n",
       "    </tr>\n",
       "    <tr>\n",
       "      <th>2</th>\n",
       "      <td>36.74482</td>\n",
       "      <td>2.95584</td>\n",
       "      <td>36.74566</td>\n",
       "      <td>2.94355</td>\n",
       "      <td>238</td>\n",
       "      <td>0</td>\n",
       "      <td>26T00:03:14Z</td>\n",
       "    </tr>\n",
       "    <tr>\n",
       "      <th>3</th>\n",
       "      <td>36.70221</td>\n",
       "      <td>2.97031</td>\n",
       "      <td>36.69438</td>\n",
       "      <td>2.97311</td>\n",
       "      <td>278</td>\n",
       "      <td>0</td>\n",
       "      <td>29T00:09:53Z</td>\n",
       "    </tr>\n",
       "    <tr>\n",
       "      <th>4</th>\n",
       "      <td>36.76901</td>\n",
       "      <td>3.03099</td>\n",
       "      <td>36.75186</td>\n",
       "      <td>2.99687</td>\n",
       "      <td>542</td>\n",
       "      <td>0</td>\n",
       "      <td>21T00:30:32Z</td>\n",
       "    </tr>\n",
       "  </tbody>\n",
       "</table>\n",
       "</div>"
      ],
      "text/plain": [
       "   pickup_lat  pickup_lng  dropoff_lat  dropoff_lng   eta  hour modified_date\n",
       "0    36.69359     3.08008     36.74878      2.95118  1531     0  30T00:32:54Z\n",
       "1    36.77913     3.24047     36.66214      3.05261  2133     0  09T00:16:06Z\n",
       "2    36.74482     2.95584     36.74566      2.94355   238     0  26T00:03:14Z\n",
       "3    36.70221     2.97031     36.69438      2.97311   278     0  29T00:09:53Z\n",
       "4    36.76901     3.03099     36.75186      2.99687   542     0  21T00:30:32Z"
      ]
     },
     "execution_count": 41,
     "metadata": {},
     "output_type": "execute_result"
    }
   ],
   "source": [
    "df.head()"
   ]
  },
  {
   "cell_type": "code",
   "execution_count": 38,
   "metadata": {},
   "outputs": [
    {
     "data": {
      "text/plain": [
       "float64    6\n",
       "object     1\n",
       "dtype: int64"
      ]
     },
     "execution_count": 38,
     "metadata": {},
     "output_type": "execute_result"
    }
   ],
   "source": [
    "df1.dtypes.value_counts()"
   ]
  },
  {
   "cell_type": "raw",
   "metadata": {},
   "source": [
    "we have six quantitative variables and one qualitative variable "
   ]
  },
  {
   "cell_type": "code",
   "execution_count": 37,
   "metadata": {},
   "outputs": [
    {
     "data": {
      "text/html": [
       "<div>\n",
       "<style scoped>\n",
       "    .dataframe tbody tr th:only-of-type {\n",
       "        vertical-align: middle;\n",
       "    }\n",
       "\n",
       "    .dataframe tbody tr th {\n",
       "        vertical-align: top;\n",
       "    }\n",
       "\n",
       "    .dataframe thead th {\n",
       "        text-align: right;\n",
       "    }\n",
       "</style>\n",
       "<table border=\"1\" class=\"dataframe\">\n",
       "  <thead>\n",
       "    <tr style=\"text-align: right;\">\n",
       "      <th></th>\n",
       "      <th>pickup_lat</th>\n",
       "      <th>pickup_lng</th>\n",
       "      <th>dropoff_lat</th>\n",
       "      <th>dropoff_lng</th>\n",
       "      <th>eta</th>\n",
       "      <th>hour</th>\n",
       "    </tr>\n",
       "  </thead>\n",
       "  <tbody>\n",
       "    <tr>\n",
       "      <th>count</th>\n",
       "      <td>119659.000000</td>\n",
       "      <td>119659.000000</td>\n",
       "      <td>119659.000000</td>\n",
       "      <td>119659.000000</td>\n",
       "      <td>119659.000000</td>\n",
       "      <td>119659.000000</td>\n",
       "    </tr>\n",
       "    <tr>\n",
       "      <th>mean</th>\n",
       "      <td>36.738973</td>\n",
       "      <td>3.051952</td>\n",
       "      <td>36.737389</td>\n",
       "      <td>3.055991</td>\n",
       "      <td>1110.326754</td>\n",
       "      <td>15.235452</td>\n",
       "    </tr>\n",
       "    <tr>\n",
       "      <th>std</th>\n",
       "      <td>0.032241</td>\n",
       "      <td>0.096554</td>\n",
       "      <td>0.032848</td>\n",
       "      <td>0.100225</td>\n",
       "      <td>557.258649</td>\n",
       "      <td>8.797389</td>\n",
       "    </tr>\n",
       "    <tr>\n",
       "      <th>min</th>\n",
       "      <td>36.588510</td>\n",
       "      <td>2.805770</td>\n",
       "      <td>36.591500</td>\n",
       "      <td>2.806980</td>\n",
       "      <td>1.000000</td>\n",
       "      <td>0.000000</td>\n",
       "    </tr>\n",
       "    <tr>\n",
       "      <th>25%</th>\n",
       "      <td>36.720310</td>\n",
       "      <td>2.992840</td>\n",
       "      <td>36.717290</td>\n",
       "      <td>2.994790</td>\n",
       "      <td>704.000000</td>\n",
       "      <td>5.000000</td>\n",
       "    </tr>\n",
       "    <tr>\n",
       "      <th>50%</th>\n",
       "      <td>36.741970</td>\n",
       "      <td>3.046240</td>\n",
       "      <td>36.741180</td>\n",
       "      <td>3.048860</td>\n",
       "      <td>1054.000000</td>\n",
       "      <td>20.000000</td>\n",
       "    </tr>\n",
       "    <tr>\n",
       "      <th>75%</th>\n",
       "      <td>36.760100</td>\n",
       "      <td>3.095140</td>\n",
       "      <td>36.759890</td>\n",
       "      <td>3.108130</td>\n",
       "      <td>1449.000000</td>\n",
       "      <td>22.000000</td>\n",
       "    </tr>\n",
       "    <tr>\n",
       "      <th>max</th>\n",
       "      <td>36.819060</td>\n",
       "      <td>3.380390</td>\n",
       "      <td>36.817960</td>\n",
       "      <td>3.380390</td>\n",
       "      <td>5238.000000</td>\n",
       "      <td>23.000000</td>\n",
       "    </tr>\n",
       "  </tbody>\n",
       "</table>\n",
       "</div>"
      ],
      "text/plain": [
       "          pickup_lat     pickup_lng    dropoff_lat    dropoff_lng  \\\n",
       "count  119659.000000  119659.000000  119659.000000  119659.000000   \n",
       "mean       36.738973       3.051952      36.737389       3.055991   \n",
       "std         0.032241       0.096554       0.032848       0.100225   \n",
       "min        36.588510       2.805770      36.591500       2.806980   \n",
       "25%        36.720310       2.992840      36.717290       2.994790   \n",
       "50%        36.741970       3.046240      36.741180       3.048860   \n",
       "75%        36.760100       3.095140      36.759890       3.108130   \n",
       "max        36.819060       3.380390      36.817960       3.380390   \n",
       "\n",
       "                 eta           hour  \n",
       "count  119659.000000  119659.000000  \n",
       "mean     1110.326754      15.235452  \n",
       "std       557.258649       8.797389  \n",
       "min         1.000000       0.000000  \n",
       "25%       704.000000       5.000000  \n",
       "50%      1054.000000      20.000000  \n",
       "75%      1449.000000      22.000000  \n",
       "max      5238.000000      23.000000  "
      ]
     },
     "execution_count": 37,
     "metadata": {},
     "output_type": "execute_result"
    }
   ],
   "source": [
    "df.describe()"
   ]
  },
  {
   "cell_type": "code",
   "execution_count": 35,
   "metadata": {},
   "outputs": [
    {
     "data": {
      "text/plain": [
       "pickup_lat       float64\n",
       "pickup_lng       float64\n",
       "dropoff_lat      float64\n",
       "dropoff_lng      float64\n",
       "eta                int64\n",
       "hour               int64\n",
       "modified_date     object\n",
       "dtype: object"
      ]
     },
     "execution_count": 35,
     "metadata": {},
     "output_type": "execute_result"
    }
   ],
   "source": [
    "df.dtypes"
   ]
  },
  {
   "cell_type": "code",
   "execution_count": 10,
   "metadata": {},
   "outputs": [
    {
     "name": "stdout",
     "output_type": "stream",
     "text": [
      "the percentage of missing values for each feature is:\n",
      "pickup_lat       0.0\n",
      "pickup_lng       0.0\n",
      "dropoff_lat      0.0\n",
      "dropoff_lng      0.0\n",
      "eta              0.0\n",
      "hour             0.0\n",
      "modified_date    0.0\n",
      "dtype: float64\n"
     ]
    }
   ],
   "source": [
    "# missing data\n",
    "\n",
    "print('the percentage of missing values for each feature is:')\n",
    "novalues = df.isnull().sum(axis = 0)*100/len(df)\n",
    "print(novalues)"
   ]
  },
  {
   "cell_type": "code",
   "execution_count": 40,
   "metadata": {},
   "outputs": [
    {
     "name": "stdout",
     "output_type": "stream",
     "text": [
      "the number of missing values in each variable is :\n",
      "  pickup_lat       0\n",
      "pickup_lng       0\n",
      "dropoff_lat      0\n",
      "dropoff_lng      0\n",
      "eta              0\n",
      "hour             0\n",
      "modified_date    0\n",
      "dtype: int64\n"
     ]
    }
   ],
   "source": [
    "print(\"the number of missing values in each variable is :\\n \" ,df.isna().sum())"
   ]
  },
  {
   "cell_type": "markdown",
   "metadata": {},
   "source": [
    "# Normalizing data"
   ]
  },
  {
   "cell_type": "code",
   "execution_count": 15,
   "metadata": {},
   "outputs": [
    {
     "name": "stdout",
     "output_type": "stream",
     "text": [
      "        pickup_lat  pickup_lng  dropoff_lat  dropoff_lng       eta  hour  \\\n",
      "0         0.455780    0.477376     0.694516     0.251478  0.292152   0.0   \n",
      "1         0.826805    0.756500     0.311931     0.428367  0.407103   0.0   \n",
      "2         0.677987    0.261164     0.680738     0.238172  0.045255   0.0   \n",
      "3         0.493169    0.286346     0.454297     0.289723  0.052893   0.0   \n",
      "4         0.782910    0.391946     0.708116     0.331159  0.103303   0.0   \n",
      "...            ...         ...          ...          ...       ...   ...   \n",
      "119654    0.479375    0.689934     0.839618     0.358539  0.289097   1.0   \n",
      "119655    0.733377    0.410776     0.505652     0.734588  0.257208   1.0   \n",
      "119656    0.669573    0.502802     0.712488     0.301843  0.216345   1.0   \n",
      "119657    0.469703    0.471372     0.570211     0.660121  0.227420   1.0   \n",
      "119658    0.520928    0.726967     0.754438     0.201618  0.409586   1.0   \n",
      "\n",
      "       modified_date  \n",
      "0       30T00:32:54Z  \n",
      "1       09T00:16:06Z  \n",
      "2       26T00:03:14Z  \n",
      "3       29T00:09:53Z  \n",
      "4       21T00:30:32Z  \n",
      "...              ...  \n",
      "119654  21T23:45:54Z  \n",
      "119655  05T23:46:59Z  \n",
      "119656  05T23:17:03Z  \n",
      "119657  29T23:48:52Z  \n",
      "119658  18T23:24:58Z  \n",
      "\n",
      "[119659 rows x 7 columns]\n"
     ]
    }
   ],
   "source": [
    "\n",
    "## we make a new dataframe with only float variables (we take off the date)\n",
    "df1 = df[['pickup_lat', 'pickup_lng', 'dropoff_lat', 'dropoff_lng', 'eta', 'hour']]\n",
    "## we normalize this new dataframe\n",
    "x = df1.values \n",
    "min_max_scaler = preprocessing.MinMaxScaler()\n",
    "x_scaled = min_max_scaler.fit_transform(x)\n",
    "#we store the normalized values in df1\n",
    "df1 = pd.DataFrame(x_scaled)\n",
    "## we add the date again to the data frame \n",
    "df1['modified_date'] = df[\"modified_date\"]\n",
    "## rename the column\n",
    "df1 = df1.rename(columns={0 : \"pickup_lat\", 1 : \"pickup_lng\", 2 : \"dropoff_lat\", 3 : \"dropoff_lng\", 4 : \"eta\", 5 : \"hour\"})\n",
    "#let's visualize our new normalized data\n",
    "print(df1)\n"
   ]
  },
  {
   "cell_type": "code",
   "execution_count": 36,
   "metadata": {},
   "outputs": [
    {
     "data": {
      "text/html": [
       "<div>\n",
       "<style scoped>\n",
       "    .dataframe tbody tr th:only-of-type {\n",
       "        vertical-align: middle;\n",
       "    }\n",
       "\n",
       "    .dataframe tbody tr th {\n",
       "        vertical-align: top;\n",
       "    }\n",
       "\n",
       "    .dataframe thead th {\n",
       "        text-align: right;\n",
       "    }\n",
       "</style>\n",
       "<table border=\"1\" class=\"dataframe\">\n",
       "  <thead>\n",
       "    <tr style=\"text-align: right;\">\n",
       "      <th></th>\n",
       "      <th>pickup_lat</th>\n",
       "      <th>pickup_lng</th>\n",
       "      <th>dropoff_lat</th>\n",
       "      <th>dropoff_lng</th>\n",
       "      <th>eta</th>\n",
       "      <th>hour</th>\n",
       "      <th>modified_date</th>\n",
       "    </tr>\n",
       "  </thead>\n",
       "  <tbody>\n",
       "    <tr>\n",
       "      <th>0</th>\n",
       "      <td>0.455780</td>\n",
       "      <td>0.477376</td>\n",
       "      <td>0.694516</td>\n",
       "      <td>0.251478</td>\n",
       "      <td>0.292152</td>\n",
       "      <td>0.0</td>\n",
       "      <td>30T00:32:54Z</td>\n",
       "    </tr>\n",
       "    <tr>\n",
       "      <th>1</th>\n",
       "      <td>0.826805</td>\n",
       "      <td>0.756500</td>\n",
       "      <td>0.311931</td>\n",
       "      <td>0.428367</td>\n",
       "      <td>0.407103</td>\n",
       "      <td>0.0</td>\n",
       "      <td>09T00:16:06Z</td>\n",
       "    </tr>\n",
       "    <tr>\n",
       "      <th>2</th>\n",
       "      <td>0.677987</td>\n",
       "      <td>0.261164</td>\n",
       "      <td>0.680738</td>\n",
       "      <td>0.238172</td>\n",
       "      <td>0.045255</td>\n",
       "      <td>0.0</td>\n",
       "      <td>26T00:03:14Z</td>\n",
       "    </tr>\n",
       "    <tr>\n",
       "      <th>3</th>\n",
       "      <td>0.493169</td>\n",
       "      <td>0.286346</td>\n",
       "      <td>0.454297</td>\n",
       "      <td>0.289723</td>\n",
       "      <td>0.052893</td>\n",
       "      <td>0.0</td>\n",
       "      <td>29T00:09:53Z</td>\n",
       "    </tr>\n",
       "    <tr>\n",
       "      <th>4</th>\n",
       "      <td>0.782910</td>\n",
       "      <td>0.391946</td>\n",
       "      <td>0.708116</td>\n",
       "      <td>0.331159</td>\n",
       "      <td>0.103303</td>\n",
       "      <td>0.0</td>\n",
       "      <td>21T00:30:32Z</td>\n",
       "    </tr>\n",
       "  </tbody>\n",
       "</table>\n",
       "</div>"
      ],
      "text/plain": [
       "   pickup_lat  pickup_lng  dropoff_lat  dropoff_lng       eta  hour  \\\n",
       "0    0.455780    0.477376     0.694516     0.251478  0.292152   0.0   \n",
       "1    0.826805    0.756500     0.311931     0.428367  0.407103   0.0   \n",
       "2    0.677987    0.261164     0.680738     0.238172  0.045255   0.0   \n",
       "3    0.493169    0.286346     0.454297     0.289723  0.052893   0.0   \n",
       "4    0.782910    0.391946     0.708116     0.331159  0.103303   0.0   \n",
       "\n",
       "  modified_date  \n",
       "0  30T00:32:54Z  \n",
       "1  09T00:16:06Z  \n",
       "2  26T00:03:14Z  \n",
       "3  29T00:09:53Z  \n",
       "4  21T00:30:32Z  "
      ]
     },
     "execution_count": 36,
     "metadata": {},
     "output_type": "execute_result"
    }
   ],
   "source": [
    "df1.head()"
   ]
  },
  {
   "cell_type": "markdown",
   "metadata": {},
   "source": [
    "# Correlation analysis and feature selection"
   ]
  },
  {
   "cell_type": "code",
   "execution_count": 39,
   "metadata": {},
   "outputs": [
    {
     "data": {
      "text/html": [
       "<div>\n",
       "<style scoped>\n",
       "    .dataframe tbody tr th:only-of-type {\n",
       "        vertical-align: middle;\n",
       "    }\n",
       "\n",
       "    .dataframe tbody tr th {\n",
       "        vertical-align: top;\n",
       "    }\n",
       "\n",
       "    .dataframe thead th {\n",
       "        text-align: right;\n",
       "    }\n",
       "</style>\n",
       "<table border=\"1\" class=\"dataframe\">\n",
       "  <thead>\n",
       "    <tr style=\"text-align: right;\">\n",
       "      <th></th>\n",
       "      <th>pickup_lat</th>\n",
       "      <th>pickup_lng</th>\n",
       "      <th>dropoff_lat</th>\n",
       "      <th>dropoff_lng</th>\n",
       "      <th>eta</th>\n",
       "      <th>hour</th>\n",
       "    </tr>\n",
       "  </thead>\n",
       "  <tbody>\n",
       "    <tr>\n",
       "      <th>pickup_lat</th>\n",
       "      <td>1.000000</td>\n",
       "      <td>-0.168752</td>\n",
       "      <td>0.173195</td>\n",
       "      <td>-0.052440</td>\n",
       "      <td>-0.053931</td>\n",
       "      <td>0.007353</td>\n",
       "    </tr>\n",
       "    <tr>\n",
       "      <th>pickup_lng</th>\n",
       "      <td>-0.168752</td>\n",
       "      <td>1.000000</td>\n",
       "      <td>-0.054072</td>\n",
       "      <td>0.311147</td>\n",
       "      <td>0.031324</td>\n",
       "      <td>0.012846</td>\n",
       "    </tr>\n",
       "    <tr>\n",
       "      <th>dropoff_lat</th>\n",
       "      <td>0.173195</td>\n",
       "      <td>-0.054072</td>\n",
       "      <td>1.000000</td>\n",
       "      <td>-0.211451</td>\n",
       "      <td>-0.078016</td>\n",
       "      <td>-0.013388</td>\n",
       "    </tr>\n",
       "    <tr>\n",
       "      <th>dropoff_lng</th>\n",
       "      <td>-0.052440</td>\n",
       "      <td>0.311147</td>\n",
       "      <td>-0.211451</td>\n",
       "      <td>1.000000</td>\n",
       "      <td>0.044669</td>\n",
       "      <td>-0.016896</td>\n",
       "    </tr>\n",
       "    <tr>\n",
       "      <th>eta</th>\n",
       "      <td>-0.053931</td>\n",
       "      <td>0.031324</td>\n",
       "      <td>-0.078016</td>\n",
       "      <td>0.044669</td>\n",
       "      <td>1.000000</td>\n",
       "      <td>-0.012108</td>\n",
       "    </tr>\n",
       "    <tr>\n",
       "      <th>hour</th>\n",
       "      <td>0.007353</td>\n",
       "      <td>0.012846</td>\n",
       "      <td>-0.013388</td>\n",
       "      <td>-0.016896</td>\n",
       "      <td>-0.012108</td>\n",
       "      <td>1.000000</td>\n",
       "    </tr>\n",
       "  </tbody>\n",
       "</table>\n",
       "</div>"
      ],
      "text/plain": [
       "             pickup_lat  pickup_lng  dropoff_lat  dropoff_lng       eta  \\\n",
       "pickup_lat     1.000000   -0.168752     0.173195    -0.052440 -0.053931   \n",
       "pickup_lng    -0.168752    1.000000    -0.054072     0.311147  0.031324   \n",
       "dropoff_lat    0.173195   -0.054072     1.000000    -0.211451 -0.078016   \n",
       "dropoff_lng   -0.052440    0.311147    -0.211451     1.000000  0.044669   \n",
       "eta           -0.053931    0.031324    -0.078016     0.044669  1.000000   \n",
       "hour           0.007353    0.012846    -0.013388    -0.016896 -0.012108   \n",
       "\n",
       "                 hour  \n",
       "pickup_lat   0.007353  \n",
       "pickup_lng   0.012846  \n",
       "dropoff_lat -0.013388  \n",
       "dropoff_lng -0.016896  \n",
       "eta         -0.012108  \n",
       "hour         1.000000  "
      ]
     },
     "execution_count": 39,
     "metadata": {},
     "output_type": "execute_result"
    }
   ],
   "source": [
    "df.corr()"
   ]
  },
  {
   "cell_type": "code",
   "execution_count": 44,
   "metadata": {},
   "outputs": [
    {
     "data": {
      "image/png": "[encoded data removed]",
      "text/plain": [
       "<Figure size 1152x720 with 2 Axes>"
      ]
     },
     "metadata": {
      "needs_background": "light"
     },
     "output_type": "display_data"
    }
   ],
   "source": [
    "plt.figure(figsize=(16,10))\n",
    "sns.heatmap(df.corr(), annot=True) \n",
    "plt.show() "
   ]
  },
  {
   "cell_type": "markdown",
   "metadata": {},
   "source": [
    "# Splitting the dataset into the Training ,Validation and Test set "
   ]
  },
  {
   "cell_type": "code",
   "execution_count": 84,
   "metadata": {},
   "outputs": [
    {
     "name": "stdout",
     "output_type": "stream",
     "text": [
      "number of data point in train data: 95727\n",
      "number of data point in test data: 23932\n",
      "number of data point in validation data: 19146\n"
     ]
    }
   ],
   "source": [
    "from sklearn.model_selection import train_test_split\n",
    "\n",
    "trainset, testset= train_test_split(df,test_size=0.2, random_state=1)\n",
    "#split trainset into train and validation set \n",
    "trainset_df, validset=train_test_split(trainset,test_size=0.2,random_state=1)\n",
    "print('number of data point in train data:',trainset.shape[0]) \n",
    "print('number of data point in test data:',testset.shape[0]) \n",
    "print('number of data point in validation data:',validset.shape[0]) "
   ]
  },
  {
   "cell_type": "markdown",
   "metadata": {},
   "source": [
    "The metric used in this problem is RMSE. For Baseline, we will predict the average fare amount and check the RMSE on validation data. Any model, should be able to beat this simple benchmark."
   ]
  },
  {
   "cell_type": "code",
   "execution_count": 85,
   "metadata": {},
   "outputs": [
    {
     "data": {
      "text/plain": [
       "pickup_lat       36.74\n",
       "pickup_lng        3.05\n",
       "dropoff_lat      36.74\n",
       "dropoff_lng       3.06\n",
       "eta            1110.83\n",
       "dtype: float64"
      ]
     },
     "execution_count": 85,
     "metadata": {},
     "output_type": "execute_result"
    }
   ],
   "source": [
    "from sklearn.metrics import mean_squared_error\n",
    "\n",
    "avg_fare=round(np.mean(trainset),2)\n",
    "avg_fare.head()\n",
    "\n",
    "\n"
   ]
  }
 ],
 "metadata": {
  "kernelspec": {
   "display_name": "Python 3",
   "language": "python",
   "name": "python3"
  },
  "language_info": {
   "codemirror_mode": {
    "name": "ipython",
    "version": 3
   },
   "file_extension": ".py",
   "mimetype": "text/x-python",
   "name": "python",
   "nbconvert_exporter": "python",
   "pygments_lexer": "ipython3",
   "version": "3.8.5"
  }
 },
 "nbformat": 4,
 "nbformat_minor": 4
}
